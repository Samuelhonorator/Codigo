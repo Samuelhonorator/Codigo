{
  "cells": [
    {
      "cell_type": "markdown",
      "metadata": {
        "id": "view-in-github",
        "colab_type": "text"
      },
      "source": [
        "<a href=\"https://colab.research.google.com/github/Samuelhonorator/Codigo/blob/main/sam.ipynb\" target=\"_parent\"><img src=\"https://colab.research.google.com/assets/colab-badge.svg\" alt=\"Open In Colab\"/></a>"
      ]
    },
    {
      "cell_type": "raw",
      "id": "5d5e06fc-d492-4e7a-aa59-a5871c60e591",
      "metadata": {
        "id": "5d5e06fc-d492-4e7a-aa59-a5871c60e591"
      },
      "source": [
        "---\n",
        "\n",
        "\n",
        "\n",
        "title: \"Modelos de inversión en expansión de capacidad\"\n",
        "format:\n",
        "  html:\n",
        "    code-fold: true\n",
        "    html-math-method: katex\n",
        "  pdf:\n",
        "    geometry:\n",
        "      - top=30mm\n",
        "      - left=30mm\n",
        "jupyter: python3\n",
        "lang: es\n",
        "bibliography: references.bib\n",
        "---"
      ]
    },
    {
      "cell_type": "markdown",
      "id": "cf699d2c-cad0-445a-8fcf-eec2a81f5e57",
      "metadata": {
        "id": "cf699d2c-cad0-445a-8fcf-eec2a81f5e57"
      },
      "source": [
        "Este apunte computa el ejemplo 3.3.1 de @daertrycke_risk_2017 donde se tiene un productor neutral al riesgo que resuelve\n",
        "\n",
        "$$\\min_{x,Y}I\\cdot x+\\tau\\mathbb{E}_{\\Theta}\\left[(C-P_\\omega)\\cdot Y_\\omega\\right]\\quad\\text{subject to}\\quad Y_\\omega\\in[0,x]$$\n",
        "\n",
        "y la demanda como resultado de resolver\n",
        "\n",
        "$$\\min_Q\\tau\\mathbb{E}_\\Theta\\left[P_\\omega\\cdot Q_\\omega-U_\\omega(Q_\\omega)\\right]$$\n",
        "\n",
        "donde $U_\\omega(Q_\\omega)=A_\\omega\\cdot Q_\\omega -\\frac{B}{2}\\cdot Q^2_\\omega$"
      ]
    },
    {
      "cell_type": "code",
      "execution_count": null,
      "id": "2d680db0-67dd-43b9-b1c1-6e9df46f342e",
      "metadata": {
        "id": "2d680db0-67dd-43b9-b1c1-6e9df46f342e",
        "colab": {
          "base_uri": "https://localhost:8080/"
        },
        "outputId": "e9be1951-a0a6-4274-d9a0-d5e060ca6e9d"
      },
      "outputs": [
        {
          "output_type": "stream",
          "name": "stdout",
          "text": [
            "Requirement already satisfied: gurobipy in /usr/local/lib/python3.10/dist-packages (10.0.2)\n"
          ]
        }
      ],
      "source": [
        "!pip install gurobipy\n",
        "from gurobipy import Model, GRB, quicksum\n",
        "\n",
        "def modeloRNcompetitivecapacityequilibrium(cant_esce, a, theta, B, tau, c, I):\n",
        "    m = Model()\n",
        "\n",
        "    # Decision variables x, Y, Q\n",
        "    x = m.addVar(lb=0, vtype=GRB.CONTINUOUS, name='x')  # Capacidad\n",
        "    Y = {}  # Producción\n",
        "    Q = {}  # Demanda\n",
        "\n",
        "    # Definición de Producción y Demanda para cada estado de la naturaleza Y_omega, Q_omega\n",
        "    for i in range(cant_esce):\n",
        "        Y[i] = m.addVar(vtype=GRB.INTEGER, name='Y{}'.format(i))\n",
        "        Q[i] = m.addVar(vtype=GRB.INTEGER, name='Q{}'.format(i))\n",
        "\n",
        "    # Restricciones\n",
        "    for i in range(cant_esce):\n",
        "        # Production equals demand\n",
        "        m.addConstr(Y[i] == Q[i])\n",
        "        # Production bounded by installed capacity\n",
        "        m.addConstr(Y[i] <= x)\n",
        "\n",
        "    # F.O\n",
        "    obj_expr = I * 1000 * x + tau * quicksum(theta[i] * (c * Y[i] - a[i] * Q[i] + (B / 2) * (Q[i] * Q[i])) for i in range(cant_esce))\n",
        "    m.setObjective(obj_expr, GRB.MINIMIZE)\n",
        "\n",
        "    m.optimize()\n",
        "\n",
        "    P = []\n",
        "    IM = []\n",
        "\n",
        "    for i in range(cant_esce):\n",
        "        P.append(a[i] - B * Q[i].x)\n",
        "        IM.append((tau * (P[i] - c) * Y[i].x - I * x.x) / x.x)\n",
        "\n",
        "    Qprom = sum(Q[i].x for i in range(cant_esce))\n",
        "\n",
        "    print(\"Q Promedio =\", Qprom / cant_esce)\n",
        "    print(\"x =\", x.x)\n",
        "    print(\"Valor función objetivo =\", m.objVal)\n",
        "\n",
        "    print(cant_esce, a, theta, B, tau, c, I)\n",
        "\n",
        "    print(\"\\nQ, Y, P and Investment Margin values:\")\n",
        "    for i in range(cant_esce):\n",
        "        print(\"Q({}) = {:.1f}    Y({}) = {:.1f}    P({}) = {:.1f}    Investment Margin = {:.1f}\"\n",
        "          .format(i + 1, Q[i].x, i + 1, Y[i].x, i + 1, P[i], IM[i]))"
      ]
    },
    {
      "cell_type": "markdown",
      "id": "a9c9bf39-b4a0-4550-a122-d48913852e4a",
      "metadata": {
        "id": "a9c9bf39-b4a0-4550-a122-d48913852e4a"
      },
      "source": [
        "Parametrizamos una instancia específica del modelo"
      ]
    },
    {
      "cell_type": "code",
      "execution_count": null,
      "id": "10a23737-e956-4dc2-a9db-888f12629e5a",
      "metadata": {
        "id": "10a23737-e956-4dc2-a9db-888f12629e5a"
      },
      "outputs": [],
      "source": [
        "cant = 5\n",
        "A = [300, 350, 400, 450, 500]\n",
        "Theta = [0.2, 0.2, 0.2, 0.2, 0.2]\n",
        "B = 1  # $/MWh\n",
        "tau = 8760  # duracion por segmento por hora\n",
        "C = 60  # costo de operacion en $/mWhora\n",
        "I = 90  # capital para gasto"
      ]
    },
    {
      "cell_type": "markdown",
      "id": "0f9e4965-d09c-4379-b505-378018e71b4c",
      "metadata": {
        "id": "0f9e4965-d09c-4379-b505-378018e71b4c"
      },
      "source": [
        "En lo que sigue la resolvemos"
      ]
    },
    {
      "cell_type": "code",
      "execution_count": null,
      "id": "f413b7ed-3c47-4628-983e-e923c8df74e8",
      "metadata": {
        "id": "f413b7ed-3c47-4628-983e-e923c8df74e8",
        "outputId": "08877e55-0ed5-47cd-ad28-0e1806712f4c",
        "colab": {
          "base_uri": "https://localhost:8080/"
        }
      },
      "outputs": [
        {
          "output_type": "stream",
          "name": "stdout",
          "text": [
            "Restricted license - for non-production use only - expires 2024-10-28\n",
            "Gurobi Optimizer version 10.0.2 build v10.0.2rc0 (linux64)\n",
            "\n",
            "CPU model: Intel(R) Xeon(R) CPU @ 2.20GHz, instruction set [SSE2|AVX|AVX2]\n",
            "Thread count: 1 physical cores, 2 logical processors, using up to 2 threads\n",
            "\n",
            "Optimize a model with 10 rows, 11 columns and 20 nonzeros\n",
            "Model fingerprint: 0x0ea22c61\n",
            "Model has 5 quadratic objective terms\n",
            "Variable types: 1 continuous, 10 integer (0 binary)\n",
            "Coefficient statistics:\n",
            "  Matrix range     [1e+00, 1e+00]\n",
            "  Objective range  [9e+04, 9e+05]\n",
            "  QObjective range [2e+03, 2e+03]\n",
            "  Bounds range     [0e+00, 0e+00]\n",
            "  RHS range        [0e+00, 0e+00]\n",
            "Found heuristic solution: objective 0.0000000\n",
            "Presolve removed 5 rows and 5 columns\n",
            "Presolve time: 0.00s\n",
            "Presolved: 5 rows, 6 columns, 10 nonzeros\n",
            "Presolved model has 5 quadratic objective terms\n",
            "Variable types: 1 continuous, 5 integer (0 binary)\n",
            "Found heuristic solution: objective -2884020.000\n",
            "\n",
            "Root relaxation: objective -4.909388e+08, 3 iterations, 0.00 seconds (0.00 work units)\n",
            "\n",
            "    Nodes    |    Current Node    |     Objective Bounds      |     Work\n",
            " Expl Unexpl |  Obj  Depth IntInf | Incumbent    BestBd   Gap | It/Node Time\n",
            "\n",
            "     0     0 -4.909e+08    0    2 -2884020.0 -4.909e+08      -     -    0s\n",
            "H    0     0                    -4.90938e+08 -4.909e+08  0.00%     -    0s\n",
            "\n",
            "Explored 1 nodes (3 simplex iterations) in 0.09 seconds (0.00 work units)\n",
            "Thread count was 2 (of 2 available processors)\n",
            "\n",
            "Solution count 3: -4.90938e+08 -2.88402e+06 0 \n",
            "\n",
            "Optimal solution found (tolerance 1.00e-04)\n",
            "Best objective -4.909380000000e+08, best bound -4.909388219178e+08, gap 0.0002%\n",
            "Q Promedio = 330.0\n",
            "x = 389.99999999999994\n",
            "Valor función objetivo = -490938000.0\n",
            "5 [300, 350, 400, 450, 500] [0.2, 0.2, 0.2, 0.2, 0.2] 1 8760 60 90\n",
            "\n",
            "Q, Y, P and Investment Margin values:\n",
            "Q(1) = 240.0    Y(1) = 240.0    P(1) = 60.0    Investment Margin = -90.0\n",
            "Q(2) = 290.0    Y(2) = 290.0    P(2) = 60.0    Investment Margin = -90.0\n",
            "Q(3) = 340.0    Y(3) = 340.0    P(3) = 60.0    Investment Margin = -90.0\n",
            "Q(4) = 390.0    Y(4) = 390.0    P(4) = 60.0    Investment Margin = -90.0\n",
            "Q(5) = 390.0    Y(5) = 390.0    P(5) = 110.0    Investment Margin = 437910.0\n"
          ]
        }
      ],
      "source": [
        "modeloRNcompetitivecapacityequilibrium(cant, A, Theta, B, tau, C, I)"
      ]
    },
    {
      "cell_type": "markdown",
      "id": "b52ca7b7-a334-4f2d-8140-4b0b233857c0",
      "metadata": {
        "id": "b52ca7b7-a334-4f2d-8140-4b0b233857c0"
      },
      "source": [
        "## Referencias"
      ]
    }
  ],
  "metadata": {
    "kernelspec": {
      "display_name": "Python 3 (ipykernel)",
      "language": "python",
      "name": "python3"
    },
    "language_info": {
      "codemirror_mode": {
        "name": "ipython",
        "version": 3
      },
      "file_extension": ".py",
      "mimetype": "text/x-python",
      "name": "python",
      "nbconvert_exporter": "python",
      "pygments_lexer": "ipython3",
      "version": "3.9.13"
    },
    "colab": {
      "provenance": [],
      "toc_visible": true,
      "include_colab_link": true
    }
  },
  "nbformat": 4,
  "nbformat_minor": 5
}
